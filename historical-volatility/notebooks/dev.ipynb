{
 "metadata": {
  "language_info": {
   "codemirror_mode": {
    "name": "ipython",
    "version": 3
   },
   "file_extension": ".py",
   "mimetype": "text/x-python",
   "name": "python",
   "nbconvert_exporter": "python",
   "pygments_lexer": "ipython3",
   "version": "3.9.1"
  },
  "orig_nbformat": 4,
  "kernelspec": {
   "name": "python3",
   "display_name": "Python 3.9.1 64-bit"
  },
  "interpreter": {
   "hash": "4cd7ab41f5fca4b9b44701077e38c5ffd31fe66a6cab21e0214b68d958d0e462"
  }
 },
 "nbformat": 4,
 "nbformat_minor": 2,
 "cells": [
  {
   "cell_type": "code",
   "execution_count": 1,
   "metadata": {},
   "outputs": [],
   "source": [
    "from gql import gql, Client\n",
    "from gql.transport.requests import RequestsHTTPTransport\n",
    "import pandas as pd\n",
    "import calendar\n",
    "import time \n"
   ]
  },
  {
   "cell_type": "code",
   "execution_count": 2,
   "metadata": {},
   "outputs": [],
   "source": [
    "# Initialize gql client\n",
    "def init_client_v2():\n",
    "    endpoint='https://api.thegraph.com/subgraphs/name/uniswap/uniswap-v2'\n",
    "    transport=RequestsHTTPTransport(url=endpoint)\n",
    "    client = Client(transport=transport, fetch_schema_from_transport=True)\n",
    "    return client"
   ]
  },
  {
   "cell_type": "code",
   "execution_count": 3,
   "metadata": {},
   "outputs": [],
   "source": [
    "client = init_client_v2()\n",
    "query = gql(\n",
    "    \"\"\"\n",
    "    {\n",
    "        pairs(first: 1000, orderBy: volumeUSD, orderDirection: desc) {\n",
    "            id,\n",
    "            token0 {\n",
    "                symbol\n",
    "            },\n",
    "            token1 {\n",
    "                symbol\n",
    "            }\n",
    "            volumeUSD\n",
    "        }\n",
    "    }\n",
    "    \"\"\")\n",
    "\n",
    "result = client.execute(query)\n",
    "client.close()\n",
    "pairs = result['pairs']"
   ]
  },
  {
   "cell_type": "code",
   "execution_count": 4,
   "metadata": {},
   "outputs": [],
   "source": [
    "pairs_df = pd.DataFrame(pairs)"
   ]
  },
  {
   "cell_type": "code",
   "execution_count": 5,
   "metadata": {},
   "outputs": [
    {
     "output_type": "execute_result",
     "data": {
      "text/plain": [
       "                                           id                token0  \\\n",
       "0  0xb4e16d0168e52d35cacd2c6185b44281ec28c9dc    {'symbol': 'USDC'}   \n",
       "1  0x0d4a11d5eeaac28ec3f61d100daf4d40471f1852    {'symbol': 'WETH'}   \n",
       "2  0xa478c2975ab1ea89e8196811f51a7b7ade33eb11     {'symbol': 'DAI'}   \n",
       "3  0x23fe4ee3bd9bfd1152993a7954298bb4d426698f  {'symbol': 'SCAMMY'}   \n",
       "4  0xe5ffe183ae47f1a0e4194618d34c5b05b98953a8    {'symbol': 'welp'}   \n",
       "\n",
       "               token1                            volumeUSD  \n",
       "0  {'symbol': 'WETH'}  28854540366.51359144147582542508646  \n",
       "1  {'symbol': 'USDT'}  28067155749.86169594329855197136091  \n",
       "2  {'symbol': 'WETH'}  13612841868.60976409890595666411258  \n",
       "3  {'symbol': 'WETH'}  11029715648.72159798743878461135205  \n",
       "4  {'symbol': 'WETH'}  11017636252.92521755536995878068531  "
      ],
      "text/html": "<div>\n<style scoped>\n    .dataframe tbody tr th:only-of-type {\n        vertical-align: middle;\n    }\n\n    .dataframe tbody tr th {\n        vertical-align: top;\n    }\n\n    .dataframe thead th {\n        text-align: right;\n    }\n</style>\n<table border=\"1\" class=\"dataframe\">\n  <thead>\n    <tr style=\"text-align: right;\">\n      <th></th>\n      <th>id</th>\n      <th>token0</th>\n      <th>token1</th>\n      <th>volumeUSD</th>\n    </tr>\n  </thead>\n  <tbody>\n    <tr>\n      <th>0</th>\n      <td>0xb4e16d0168e52d35cacd2c6185b44281ec28c9dc</td>\n      <td>{'symbol': 'USDC'}</td>\n      <td>{'symbol': 'WETH'}</td>\n      <td>28854540366.51359144147582542508646</td>\n    </tr>\n    <tr>\n      <th>1</th>\n      <td>0x0d4a11d5eeaac28ec3f61d100daf4d40471f1852</td>\n      <td>{'symbol': 'WETH'}</td>\n      <td>{'symbol': 'USDT'}</td>\n      <td>28067155749.86169594329855197136091</td>\n    </tr>\n    <tr>\n      <th>2</th>\n      <td>0xa478c2975ab1ea89e8196811f51a7b7ade33eb11</td>\n      <td>{'symbol': 'DAI'}</td>\n      <td>{'symbol': 'WETH'}</td>\n      <td>13612841868.60976409890595666411258</td>\n    </tr>\n    <tr>\n      <th>3</th>\n      <td>0x23fe4ee3bd9bfd1152993a7954298bb4d426698f</td>\n      <td>{'symbol': 'SCAMMY'}</td>\n      <td>{'symbol': 'WETH'}</td>\n      <td>11029715648.72159798743878461135205</td>\n    </tr>\n    <tr>\n      <th>4</th>\n      <td>0xe5ffe183ae47f1a0e4194618d34c5b05b98953a8</td>\n      <td>{'symbol': 'welp'}</td>\n      <td>{'symbol': 'WETH'}</td>\n      <td>11017636252.92521755536995878068531</td>\n    </tr>\n  </tbody>\n</table>\n</div>"
     },
     "metadata": {},
     "execution_count": 5
    }
   ],
   "source": [
    "pairs_df.head()"
   ]
  },
  {
   "cell_type": "code",
   "execution_count": 6,
   "metadata": {},
   "outputs": [
    {
     "output_type": "execute_result",
     "data": {
      "text/plain": [
       "                                           id  token0 token1  \\\n",
       "0  0xb4e16d0168e52d35cacd2c6185b44281ec28c9dc    USDC   WETH   \n",
       "1  0x0d4a11d5eeaac28ec3f61d100daf4d40471f1852    WETH   USDT   \n",
       "2  0xa478c2975ab1ea89e8196811f51a7b7ade33eb11     DAI   WETH   \n",
       "3  0x23fe4ee3bd9bfd1152993a7954298bb4d426698f  SCAMMY   WETH   \n",
       "4  0xe5ffe183ae47f1a0e4194618d34c5b05b98953a8    welp   WETH   \n",
       "\n",
       "                             volumeUSD  \n",
       "0  28854540366.51359144147582542508646  \n",
       "1  28067155749.86169594329855197136091  \n",
       "2  13612841868.60976409890595666411258  \n",
       "3  11029715648.72159798743878461135205  \n",
       "4  11017636252.92521755536995878068531  "
      ],
      "text/html": "<div>\n<style scoped>\n    .dataframe tbody tr th:only-of-type {\n        vertical-align: middle;\n    }\n\n    .dataframe tbody tr th {\n        vertical-align: top;\n    }\n\n    .dataframe thead th {\n        text-align: right;\n    }\n</style>\n<table border=\"1\" class=\"dataframe\">\n  <thead>\n    <tr style=\"text-align: right;\">\n      <th></th>\n      <th>id</th>\n      <th>token0</th>\n      <th>token1</th>\n      <th>volumeUSD</th>\n    </tr>\n  </thead>\n  <tbody>\n    <tr>\n      <th>0</th>\n      <td>0xb4e16d0168e52d35cacd2c6185b44281ec28c9dc</td>\n      <td>USDC</td>\n      <td>WETH</td>\n      <td>28854540366.51359144147582542508646</td>\n    </tr>\n    <tr>\n      <th>1</th>\n      <td>0x0d4a11d5eeaac28ec3f61d100daf4d40471f1852</td>\n      <td>WETH</td>\n      <td>USDT</td>\n      <td>28067155749.86169594329855197136091</td>\n    </tr>\n    <tr>\n      <th>2</th>\n      <td>0xa478c2975ab1ea89e8196811f51a7b7ade33eb11</td>\n      <td>DAI</td>\n      <td>WETH</td>\n      <td>13612841868.60976409890595666411258</td>\n    </tr>\n    <tr>\n      <th>3</th>\n      <td>0x23fe4ee3bd9bfd1152993a7954298bb4d426698f</td>\n      <td>SCAMMY</td>\n      <td>WETH</td>\n      <td>11029715648.72159798743878461135205</td>\n    </tr>\n    <tr>\n      <th>4</th>\n      <td>0xe5ffe183ae47f1a0e4194618d34c5b05b98953a8</td>\n      <td>welp</td>\n      <td>WETH</td>\n      <td>11017636252.92521755536995878068531</td>\n    </tr>\n  </tbody>\n</table>\n</div>"
     },
     "metadata": {},
     "execution_count": 6
    }
   ],
   "source": [
    "pairs_df.token0 = [d.get('symbol') for d in pairs_df.token0]\n",
    "pairs_df.token1 = [d.get('symbol') for d in pairs_df.token1]\n",
    "pairs_df.head()"
   ]
  },
  {
   "cell_type": "code",
   "execution_count": 8,
   "metadata": {},
   "outputs": [
    {
     "output_type": "execute_result",
     "data": {
      "text/plain": [
       "                                            id token0 token1  \\\n",
       "25  0x819f3450da6f110ba6ea52195b3beafa246062de  MATIC   WETH   \n",
       "26  0x4d5ef58aac27d99935e5b6b4a6778ff292059991    DPI   WETH   \n",
       "27  0x570febdf89c07f256c75686caca215289bb11cfc    ERN   WETH   \n",
       "28  0xffa98a091331df4600f87c9164cd27e8a5cd2405   POLS   WETH   \n",
       "29  0x43ae24960e5534731fc831386c07755a2dc33d47    SNX   WETH   \n",
       "30  0x25647e01bd0967c1b9599fa3521939871d1d0888   WETH  SUPER   \n",
       "31  0x87febfb3ac5791034fd5ef1a615e9d9627c2665d   KP3R   WETH   \n",
       "32  0x32ce7e48debdccbfe0cd037cc89526e4382cb81b   CORE   WETH   \n",
       "33  0x7ba9b94127d434182287de708643932ec036d365  eRSDL   WETH   \n",
       "34  0x70ec2fa6eccf4010eaf572d1c1a7bcbc72dec983   WETH   ROOK   \n",
       "\n",
       "                              volumeUSD  \n",
       "25  1083107282.029894526204302223801658  \n",
       "26  1075757629.439227423904837127959137  \n",
       "27    1021935980.7198211161920127448636  \n",
       "28  1005056035.610445629916869749988211  \n",
       "29  963866708.0193042322150492422962201  \n",
       "30  938181244.6280214631037733651500069  \n",
       "31  860410300.4494357753361886205675997  \n",
       "32  857161737.2665242850323818162522315  \n",
       "33  842249633.5239177384389459454164888  \n",
       "34  826235889.2200002573184410649966573  "
      ],
      "text/html": "<div>\n<style scoped>\n    .dataframe tbody tr th:only-of-type {\n        vertical-align: middle;\n    }\n\n    .dataframe tbody tr th {\n        vertical-align: top;\n    }\n\n    .dataframe thead th {\n        text-align: right;\n    }\n</style>\n<table border=\"1\" class=\"dataframe\">\n  <thead>\n    <tr style=\"text-align: right;\">\n      <th></th>\n      <th>id</th>\n      <th>token0</th>\n      <th>token1</th>\n      <th>volumeUSD</th>\n    </tr>\n  </thead>\n  <tbody>\n    <tr>\n      <th>25</th>\n      <td>0x819f3450da6f110ba6ea52195b3beafa246062de</td>\n      <td>MATIC</td>\n      <td>WETH</td>\n      <td>1083107282.029894526204302223801658</td>\n    </tr>\n    <tr>\n      <th>26</th>\n      <td>0x4d5ef58aac27d99935e5b6b4a6778ff292059991</td>\n      <td>DPI</td>\n      <td>WETH</td>\n      <td>1075757629.439227423904837127959137</td>\n    </tr>\n    <tr>\n      <th>27</th>\n      <td>0x570febdf89c07f256c75686caca215289bb11cfc</td>\n      <td>ERN</td>\n      <td>WETH</td>\n      <td>1021935980.7198211161920127448636</td>\n    </tr>\n    <tr>\n      <th>28</th>\n      <td>0xffa98a091331df4600f87c9164cd27e8a5cd2405</td>\n      <td>POLS</td>\n      <td>WETH</td>\n      <td>1005056035.610445629916869749988211</td>\n    </tr>\n    <tr>\n      <th>29</th>\n      <td>0x43ae24960e5534731fc831386c07755a2dc33d47</td>\n      <td>SNX</td>\n      <td>WETH</td>\n      <td>963866708.0193042322150492422962201</td>\n    </tr>\n    <tr>\n      <th>30</th>\n      <td>0x25647e01bd0967c1b9599fa3521939871d1d0888</td>\n      <td>WETH</td>\n      <td>SUPER</td>\n      <td>938181244.6280214631037733651500069</td>\n    </tr>\n    <tr>\n      <th>31</th>\n      <td>0x87febfb3ac5791034fd5ef1a615e9d9627c2665d</td>\n      <td>KP3R</td>\n      <td>WETH</td>\n      <td>860410300.4494357753361886205675997</td>\n    </tr>\n    <tr>\n      <th>32</th>\n      <td>0x32ce7e48debdccbfe0cd037cc89526e4382cb81b</td>\n      <td>CORE</td>\n      <td>WETH</td>\n      <td>857161737.2665242850323818162522315</td>\n    </tr>\n    <tr>\n      <th>33</th>\n      <td>0x7ba9b94127d434182287de708643932ec036d365</td>\n      <td>eRSDL</td>\n      <td>WETH</td>\n      <td>842249633.5239177384389459454164888</td>\n    </tr>\n    <tr>\n      <th>34</th>\n      <td>0x70ec2fa6eccf4010eaf572d1c1a7bcbc72dec983</td>\n      <td>WETH</td>\n      <td>ROOK</td>\n      <td>826235889.2200002573184410649966573</td>\n    </tr>\n  </tbody>\n</table>\n</div>"
     },
     "metadata": {},
     "execution_count": 8
    }
   ],
   "source": [
    "pairs_df[25:35]"
   ]
  },
  {
   "source": [
    "def get_pair_day_data_v2(pair_address, iteration=1):\n",
    "    \"\"\"\n",
    "        Get 1000 days worth of data\n",
    "        If len(result) < 1000, you've probably gotten all the data there is\n",
    "    \"\"\"\n",
    "    client = init_client_v2()\n",
    "\n",
    "    daily_APYs = []\n",
    "    current_time = calendar.timegm(time.gmtime())\n",
    "\n",
    "    # Calculate epoch time of date deltas \n",
    "    end_date = current_time - (86400000 * iteration) # 1000 days in seconds \n",
    "\n",
    "\n",
    "\n",
    "    query = gql(\n",
    "    \"\"\"\n",
    "    query ($address: Bytes!, $enddate: Int!) {\n",
    "        pairDayDatas(first: 1000, orderBy: date, orderDirection: desc,\n",
    "        where: {\n",
    "            pairAddress: $address,\n",
    "            date_gt: $enddate\n",
    "    }\n",
    "    ) {\n",
    "        date\n",
    "        token0 {\n",
    "            symbol\n",
    "        }\n",
    "        token1 {\n",
    "            symbol\n",
    "        }\n",
    "        dailyVolumeToken0\n",
    "        dailyVolumeToken1\n",
    "        dailyVolumeUSD\n",
    "        totalSupply\n",
    "        reserveUSD\n",
    "    }\n",
    "    }\n",
    "    \"\"\")\n",
    "    params = {\n",
    "        \"address\": pair_address,\n",
    "        \"enddate\": end_date,\n",
    "        }\n",
    "\n",
    "    result = client.execute(query, variable_values=params)\n",
    "\n",
    "    client.close()\n",
    "\n",
    "\n",
    "\n",
    "    if len(result[\"pairDayDatas\"]) < 1000:\n",
    "\n",
    "        iteration = 'Done'\n",
    "        return result['pairDayDatas'], iteration\n",
    "\n",
    "    else:\n",
    "        iteration = iteration + 1\n",
    "        return result['pairDayDatas'], iteration"
   ],
   "cell_type": "code",
   "metadata": {},
   "execution_count": 9,
   "outputs": []
  },
  {
   "cell_type": "code",
   "execution_count": 15,
   "metadata": {},
   "outputs": [
    {
     "output_type": "execute_result",
     "data": {
      "text/plain": [
       "'Done'"
      ]
     },
     "metadata": {},
     "execution_count": 15
    }
   ],
   "source": [
    "first1k, iteration = get_pair_day_data_v2(pair_address=\"0x4d5ef58aac27d99935e5b6b4a6778ff292059991\")\n",
    "iteration"
   ]
  },
  {
   "cell_type": "code",
   "execution_count": 16,
   "metadata": {},
   "outputs": [
    {
     "output_type": "execute_result",
     "data": {
      "text/plain": [
       "         dailyVolumeToken0       dailyVolumeToken1  \\\n",
       "0  2944.213249743356440057  360.144078298713477596   \n",
       "1  5437.271014231465486119  649.100699516474158638   \n",
       "2  3072.416788572231461384  367.562810941605667462   \n",
       "3  5149.713099684089287711  613.891755432629820163   \n",
       "4  3573.975753676325264567  427.968327182256991692   \n",
       "\n",
       "                        dailyVolumeUSD        date  \\\n",
       "0  784600.6789943743383296287166172914  1624924800   \n",
       "1  1339716.213228797761038887255690849  1624838400   \n",
       "2  682989.3406043296910399800708753965  1624752000   \n",
       "3  1094919.756300682326846168043425021  1624665600   \n",
       "4  803500.3008454801623893316355888608  1624579200   \n",
       "\n",
       "                            reserveUSD             token0              token1  \\\n",
       "0  37109056.88685369084093119830349348  {'symbol': 'DPI'}  {'symbol': 'WETH'}   \n",
       "1  34571866.75960446358416072854982725  {'symbol': 'DPI'}  {'symbol': 'WETH'}   \n",
       "2  32113248.52413519972948351324872476  {'symbol': 'DPI'}  {'symbol': 'WETH'}   \n",
       "3  29208446.81454486943232636279218528  {'symbol': 'DPI'}  {'symbol': 'WETH'}   \n",
       "4  28386059.61846493533624861216184274  {'symbol': 'DPI'}  {'symbol': 'WETH'}   \n",
       "\n",
       "                totalSupply  \n",
       "0  21371.005923015243261765  \n",
       "1  21367.473371469439379609  \n",
       "2  21303.584282037574584897  \n",
       "3   21031.16612878440030901  \n",
       "4  20267.457979770847007021  "
      ],
      "text/html": "<div>\n<style scoped>\n    .dataframe tbody tr th:only-of-type {\n        vertical-align: middle;\n    }\n\n    .dataframe tbody tr th {\n        vertical-align: top;\n    }\n\n    .dataframe thead th {\n        text-align: right;\n    }\n</style>\n<table border=\"1\" class=\"dataframe\">\n  <thead>\n    <tr style=\"text-align: right;\">\n      <th></th>\n      <th>dailyVolumeToken0</th>\n      <th>dailyVolumeToken1</th>\n      <th>dailyVolumeUSD</th>\n      <th>date</th>\n      <th>reserveUSD</th>\n      <th>token0</th>\n      <th>token1</th>\n      <th>totalSupply</th>\n    </tr>\n  </thead>\n  <tbody>\n    <tr>\n      <th>0</th>\n      <td>2944.213249743356440057</td>\n      <td>360.144078298713477596</td>\n      <td>784600.6789943743383296287166172914</td>\n      <td>1624924800</td>\n      <td>37109056.88685369084093119830349348</td>\n      <td>{'symbol': 'DPI'}</td>\n      <td>{'symbol': 'WETH'}</td>\n      <td>21371.005923015243261765</td>\n    </tr>\n    <tr>\n      <th>1</th>\n      <td>5437.271014231465486119</td>\n      <td>649.100699516474158638</td>\n      <td>1339716.213228797761038887255690849</td>\n      <td>1624838400</td>\n      <td>34571866.75960446358416072854982725</td>\n      <td>{'symbol': 'DPI'}</td>\n      <td>{'symbol': 'WETH'}</td>\n      <td>21367.473371469439379609</td>\n    </tr>\n    <tr>\n      <th>2</th>\n      <td>3072.416788572231461384</td>\n      <td>367.562810941605667462</td>\n      <td>682989.3406043296910399800708753965</td>\n      <td>1624752000</td>\n      <td>32113248.52413519972948351324872476</td>\n      <td>{'symbol': 'DPI'}</td>\n      <td>{'symbol': 'WETH'}</td>\n      <td>21303.584282037574584897</td>\n    </tr>\n    <tr>\n      <th>3</th>\n      <td>5149.713099684089287711</td>\n      <td>613.891755432629820163</td>\n      <td>1094919.756300682326846168043425021</td>\n      <td>1624665600</td>\n      <td>29208446.81454486943232636279218528</td>\n      <td>{'symbol': 'DPI'}</td>\n      <td>{'symbol': 'WETH'}</td>\n      <td>21031.16612878440030901</td>\n    </tr>\n    <tr>\n      <th>4</th>\n      <td>3573.975753676325264567</td>\n      <td>427.968327182256991692</td>\n      <td>803500.3008454801623893316355888608</td>\n      <td>1624579200</td>\n      <td>28386059.61846493533624861216184274</td>\n      <td>{'symbol': 'DPI'}</td>\n      <td>{'symbol': 'WETH'}</td>\n      <td>20267.457979770847007021</td>\n    </tr>\n  </tbody>\n</table>\n</div>"
     },
     "metadata": {},
     "execution_count": 16
    }
   ],
   "source": [
    "first1k = pd.DataFrame(first1k)\n",
    "first1k.head()"
   ]
  },
  {
   "cell_type": "code",
   "execution_count": 17,
   "metadata": {},
   "outputs": [
    {
     "output_type": "execute_result",
     "data": {
      "text/plain": [
       "         dailyVolumeToken0       dailyVolumeToken1  \\\n",
       "0  2944.213249743356440057  360.144078298713477596   \n",
       "1  5437.271014231465486119  649.100699516474158638   \n",
       "2  3072.416788572231461384  367.562810941605667462   \n",
       "3  5149.713099684089287711  613.891755432629820163   \n",
       "4  3573.975753676325264567  427.968327182256991692   \n",
       "\n",
       "                        dailyVolumeUSD        date  \\\n",
       "0  784600.6789943743383296287166172914  1624924800   \n",
       "1  1339716.213228797761038887255690849  1624838400   \n",
       "2  682989.3406043296910399800708753965  1624752000   \n",
       "3  1094919.756300682326846168043425021  1624665600   \n",
       "4  803500.3008454801623893316355888608  1624579200   \n",
       "\n",
       "                            reserveUSD token0 token1               totalSupply  \n",
       "0  37109056.88685369084093119830349348    DPI   WETH  21371.005923015243261765  \n",
       "1  34571866.75960446358416072854982725    DPI   WETH  21367.473371469439379609  \n",
       "2  32113248.52413519972948351324872476    DPI   WETH  21303.584282037574584897  \n",
       "3  29208446.81454486943232636279218528    DPI   WETH   21031.16612878440030901  \n",
       "4  28386059.61846493533624861216184274    DPI   WETH  20267.457979770847007021  "
      ],
      "text/html": "<div>\n<style scoped>\n    .dataframe tbody tr th:only-of-type {\n        vertical-align: middle;\n    }\n\n    .dataframe tbody tr th {\n        vertical-align: top;\n    }\n\n    .dataframe thead th {\n        text-align: right;\n    }\n</style>\n<table border=\"1\" class=\"dataframe\">\n  <thead>\n    <tr style=\"text-align: right;\">\n      <th></th>\n      <th>dailyVolumeToken0</th>\n      <th>dailyVolumeToken1</th>\n      <th>dailyVolumeUSD</th>\n      <th>date</th>\n      <th>reserveUSD</th>\n      <th>token0</th>\n      <th>token1</th>\n      <th>totalSupply</th>\n    </tr>\n  </thead>\n  <tbody>\n    <tr>\n      <th>0</th>\n      <td>2944.213249743356440057</td>\n      <td>360.144078298713477596</td>\n      <td>784600.6789943743383296287166172914</td>\n      <td>1624924800</td>\n      <td>37109056.88685369084093119830349348</td>\n      <td>DPI</td>\n      <td>WETH</td>\n      <td>21371.005923015243261765</td>\n    </tr>\n    <tr>\n      <th>1</th>\n      <td>5437.271014231465486119</td>\n      <td>649.100699516474158638</td>\n      <td>1339716.213228797761038887255690849</td>\n      <td>1624838400</td>\n      <td>34571866.75960446358416072854982725</td>\n      <td>DPI</td>\n      <td>WETH</td>\n      <td>21367.473371469439379609</td>\n    </tr>\n    <tr>\n      <th>2</th>\n      <td>3072.416788572231461384</td>\n      <td>367.562810941605667462</td>\n      <td>682989.3406043296910399800708753965</td>\n      <td>1624752000</td>\n      <td>32113248.52413519972948351324872476</td>\n      <td>DPI</td>\n      <td>WETH</td>\n      <td>21303.584282037574584897</td>\n    </tr>\n    <tr>\n      <th>3</th>\n      <td>5149.713099684089287711</td>\n      <td>613.891755432629820163</td>\n      <td>1094919.756300682326846168043425021</td>\n      <td>1624665600</td>\n      <td>29208446.81454486943232636279218528</td>\n      <td>DPI</td>\n      <td>WETH</td>\n      <td>21031.16612878440030901</td>\n    </tr>\n    <tr>\n      <th>4</th>\n      <td>3573.975753676325264567</td>\n      <td>427.968327182256991692</td>\n      <td>803500.3008454801623893316355888608</td>\n      <td>1624579200</td>\n      <td>28386059.61846493533624861216184274</td>\n      <td>DPI</td>\n      <td>WETH</td>\n      <td>20267.457979770847007021</td>\n    </tr>\n  </tbody>\n</table>\n</div>"
     },
     "metadata": {},
     "execution_count": 17
    }
   ],
   "source": [
    "first1k.token0 = [d.get('symbol') for d in first1k.token0]\n",
    "first1k.token1 = [d.get('symbol') for d in first1k.token1]\n",
    "first1k.head()"
   ]
  },
  {
   "cell_type": "code",
   "execution_count": 18,
   "metadata": {},
   "outputs": [
    {
     "output_type": "execute_result",
     "data": {
      "text/plain": [
       "(293, 8)"
      ]
     },
     "metadata": {},
     "execution_count": 18
    }
   ],
   "source": [
    "first1k.shape"
   ]
  },
  {
   "cell_type": "code",
   "execution_count": 19,
   "metadata": {},
   "outputs": [],
   "source": [
    "first1k.to_csv(\"../data/processed/dpi-weth.csv\")"
   ]
  },
  {
   "cell_type": "code",
   "execution_count": null,
   "metadata": {},
   "outputs": [],
   "source": []
  }
 ]
}